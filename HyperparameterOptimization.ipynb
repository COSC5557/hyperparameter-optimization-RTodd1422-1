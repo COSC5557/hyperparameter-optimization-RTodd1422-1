{
  "nbformat": 4,
  "nbformat_minor": 0,
  "metadata": {
    "colab": {
      "provenance": []
    },
    "kernelspec": {
      "name": "python3",
      "display_name": "Python 3"
    },
    "language_info": {
      "name": "python"
    }
  },
  "cells": [
    {
      "cell_type": "code",
      "source": [
        "#!pip install scikit-optimize"
      ],
      "metadata": {
        "id": "6PRFdK13NvNe"
      },
      "execution_count": 895,
      "outputs": []
    },
    {
      "cell_type": "code",
      "source": [
        "#!pip install scikit-learn"
      ],
      "metadata": {
        "id": "v-BPeKNFW4Zi"
      },
      "execution_count": 896,
      "outputs": []
    },
    {
      "cell_type": "code",
      "execution_count": 897,
      "metadata": {
        "id": "OpjjvwIRLgRm"
      },
      "outputs": [],
      "source": [
        "import pandas as pd\n",
        "import numpy as np\n",
        "import seaborn as sb\n",
        "import matplotlib.pyplot as plt\n",
        "\n",
        "from sklearn import preprocessing\n",
        "from sklearn.compose import ColumnTransformer\n",
        "\n",
        "from collections import Counter\n",
        "from sklearn.datasets import make_classification\n",
        "from imblearn.over_sampling import SMOTE\n",
        "from imblearn.over_sampling import RandomOverSampler\n",
        "\n",
        "from sklearn.model_selection import train_test_split\n",
        "from sklearn.model_selection import cross_val_score\n",
        "\n",
        "from sklearn.linear_model import LinearRegression\n",
        "from sklearn.tree import DecisionTreeRegressor\n",
        "from sklearn.ensemble import RandomForestRegressor\n",
        "\n",
        "from sklearn.svm import SVC\n",
        "from sklearn.linear_model import LogisticRegression\n",
        "from sklearn.tree import DecisionTreeClassifier\n",
        "from sklearn.neighbors import KNeighborsClassifier\n",
        "from sklearn.ensemble import RandomForestClassifier\n",
        "\n",
        "from sklearn.metrics import accuracy_score\n",
        "from sklearn.metrics import mean_squared_error\n",
        "from sklearn.metrics import r2_score\n",
        "from sklearn.metrics import confusion_matrix\n",
        "from sklearn.metrics import mean_absolute_error\n",
        "\n",
        "from sklearn.pipeline import Pipeline\n",
        "from matplotlib.colors import ListedColormap\n",
        "from sklearn.inspection import DecisionBoundaryDisplay\n",
        "from skopt import BayesSearchCV\n",
        "from skopt.space import Real, Categorical, Integer"
      ]
    },
    {
      "cell_type": "code",
      "source": [
        "# Load the wine dataset\n",
        "winedf = pd.read_csv('/content/winequality-white.csv', header=0, sep=';', dtype={\n",
        "    'fixed acidity': 'float64',\n",
        "    'volatile acidity': 'float64',\n",
        "    'citric acid': 'float64',\n",
        "    'residual sugar': 'float64',\n",
        "    'chlorides': 'float64',\n",
        "    'free sulfur dioxide': 'float64',\n",
        "    'total sulfur dioxide': 'float64',\n",
        "    'density': 'float64',\n",
        "    'pH': 'float64',\n",
        "    'sulphates': 'float64',\n",
        "    'alcohol': 'float64',\n",
        "    'quality': 'int32',\n",
        "})\n",
        "#print(winedf.head())"
      ],
      "metadata": {
        "id": "hF_PxgsXLk2W"
      },
      "execution_count": 898,
      "outputs": []
    },
    {
      "cell_type": "code",
      "source": [
        "#winedf.describe().T"
      ],
      "metadata": {
        "id": "Sc3Hd5o0Lq_m"
      },
      "execution_count": 899,
      "outputs": []
    },
    {
      "cell_type": "code",
      "source": [
        "# Histogram to see distribution of features\n",
        "\n",
        "#winedf.hist(bins=25, figsize=(10, 10))"
      ],
      "metadata": {
        "id": "N79O7rjTLrxq"
      },
      "execution_count": 900,
      "outputs": []
    },
    {
      "cell_type": "code",
      "source": [
        "# Correlation heatmap looking for redundant features\n",
        "\n",
        "#plt.figure(figsize=(10, 10))\n",
        "#sb.heatmap(winedf.corr(), linewidths=0.5, annot=True, cmap=\"coolwarm\")\n",
        "#plt.show()"
      ],
      "metadata": {
        "id": "nXQAFdm7LrrL"
      },
      "execution_count": 901,
      "outputs": []
    },
    {
      "cell_type": "code",
      "source": [
        "winedf = winedf.drop('density', axis=1) # can comment out to try without dropping density\n"
      ],
      "metadata": {
        "id": "G-rq2rTIN4wa"
      },
      "execution_count": 902,
      "outputs": []
    },
    {
      "cell_type": "code",
      "source": [
        "# Separate features from targets\n",
        "\n",
        "X = winedf.drop('quality', axis=1)\n",
        "Y = winedf['quality']\n",
        "\n",
        "# Looking to see outliers\n",
        "#for feat in X.columns.to_list():\n",
        "#  sb.scatterplot(winedf, x=feat, y='quality')\n",
        "#  plt.show()\n",
        "\n",
        "# and there are noticeable outliers so should use a scaler that is robust to those\n",
        "# quantile transformer documentation makes it seem appropriate, but will also use standard scaler just to see\n",
        "# if there is a difference"
      ],
      "metadata": {
        "id": "C9ABFf8VL5yn"
      },
      "execution_count": 903,
      "outputs": []
    },
    {
      "cell_type": "code",
      "source": [
        "# Split Data\n",
        "\n",
        "x_train, X_test, y_train, Y_test = train_test_split(X, Y, test_size=0.2, random_state=42)\n"
      ],
      "metadata": {
        "id": "5p4qDAitMoeN"
      },
      "execution_count": 904,
      "outputs": []
    },
    {
      "cell_type": "code",
      "source": [
        "# Scale and Train\n",
        "Scaler = preprocessing.StandardScaler()\n",
        "\n",
        "#scaleStep = ColumnTransformer(\n",
        "    #transformers = [('trainScaler', Scaler, x_train.columns), ('testScaler', Scaler, X_test)]) # was gonna try to make this all happen in one step, but I'm not sure how to get it to split first and then scale like I was originally doing.\n",
        "\n",
        "x_trainScaled = pd.DataFrame(Scaler.fit_transform(x_train), columns = x_train.columns)\n",
        "\n",
        " #note: not fit_transforming again, I'm using the same as from training\n",
        "X_testScaled = pd.DataFrame(Scaler.transform(X_test), columns = X_test.columns)     # so not fitting scale on test data which should be unseen\n",
        "\n",
        "\n",
        "#print('original shape: %s' % Counter(y_train))\n",
        "#ros = RandomOverSampler(random_state=42)\n",
        "#x_trainScaled, y_train = ros.fit_resample(x_trainScaled, y_train)  #tried random oversampling and it didn't improve things\n",
        "#print('resampled shape: %s' % Counter(y_train))\n",
        "\n",
        "classiModels = {'LRC': LogisticRegression(random_state=42, max_iter=1000),\n",
        "                'DT': DecisionTreeClassifier(random_state=42),\n",
        "                'RFC': RandomForestClassifier(random_state=42),\n",
        "                'RBFSVM': SVC(kernel='rbf', random_state=42)}\n",
        "\n",
        "baseOutput = {}\n"
      ],
      "metadata": {
        "id": "ellS4BD-VNR6"
      },
      "execution_count": 905,
      "outputs": []
    },
    {
      "cell_type": "code",
      "source": [
        "for model, classi in classiModels.items():\n",
        "  pipeline = Pipeline(steps=[('classifier', classi)])\n",
        "  scores = cross_val_score(pipeline, x_trainScaled, y_train, cv=5, scoring='accuracy')\n",
        "  pipeline.fit(x_trainScaled, y_train)\n",
        "  yPredict = pipeline.predict(X_testScaled)\n",
        "  baseOutput[model] = {'Mean Train Accuracy': scores.mean(), 'Test Accuracy': accuracy_score(Y_test, yPredict)}"
      ],
      "metadata": {
        "id": "pR_nhDEUBefo"
      },
      "execution_count": 906,
      "outputs": []
    },
    {
      "cell_type": "code",
      "source": [
        "for model in baseOutput:\n",
        "  print(f'{model} Train Accuracy: {baseOutput[model][\"Mean Train Accuracy\"]}')\n",
        "  print(f'{model} Test Accuracy: {baseOutput[model][\"Test Accuracy\"]}')\n",
        "  print(\"\\n\")\n"
      ],
      "metadata": {
        "colab": {
          "base_uri": "https://localhost:8080/"
        },
        "id": "L9SpW9DgBZDY",
        "outputId": "5a562bec-305a-4b88-8e83-fac455c10a1e"
      },
      "execution_count": 907,
      "outputs": [
        {
          "output_type": "stream",
          "name": "stdout",
          "text": [
            "LRC Train Accuracy: 0.5400669846482654\n",
            "LRC Test Accuracy: 0.5183673469387755\n",
            "\n",
            "\n",
            "DT Train Accuracy: 0.5862606536867621\n",
            "DT Test Accuracy: 0.6081632653061224\n",
            "\n",
            "\n",
            "RFC Train Accuracy: 0.6618145150780619\n",
            "RFC Test Accuracy: 0.7081632653061225\n",
            "\n",
            "\n",
            "RBFSVM Train Accuracy: 0.5758089634321162\n",
            "RBFSVM Test Accuracy: 0.5571428571428572\n",
            "\n",
            "\n"
          ]
        }
      ]
    },
    {
      "cell_type": "code",
      "source": [
        "# Make a graph of scores\n",
        "ClassiNames = list[baseOutput.keys()]\n",
        "ClassiScores = [[baseOutput['LRC']['Mean Train Accuracy'], baseOutput['LRC']['Test Accuracy']],\n",
        "                [baseOutput['DT']['Mean Train Accuracy'], baseOutput['DT']['Test Accuracy']],\n",
        "                [baseOutput['RFC']['Mean Train Accuracy'], baseOutput['RFC']['Test Accuracy']],\n",
        "                [baseOutput['RBFSVM']['Mean Train Accuracy'], baseOutput['RBFSVM']['Test Accuracy']]]\n",
        "\n",
        "ClassiScoresDf = pd.DataFrame(ClassiScores, columns=['Mean Train Accuracy', 'Test Accuracy'])\n",
        "\n",
        "PltClassiScoresDf = ClassiScoresDf.plot(kind='bar', title = \"Base Classification Models\", figsize=(15, 10), width=0.8)\n",
        "PltClassiScoresDf.set_xticklabels(['LogisticRegression', 'DecisionTree', 'RandomForestClassifier', 'RBF SVM'], rotation = 0)"
      ],
      "metadata": {
        "colab": {
          "base_uri": "https://localhost:8080/",
          "height": 924
        },
        "id": "cd9_M3pWfWdZ",
        "outputId": "29aa9bd2-bec7-4154-b0a7-833cd6398066"
      },
      "execution_count": 920,
      "outputs": [
        {
          "output_type": "execute_result",
          "data": {
            "text/plain": [
              "[Text(0, 0, 'LogisticRegression'),\n",
              " Text(1, 0, 'DecisionTree'),\n",
              " Text(2, 0, 'RandomForestClassifier'),\n",
              " Text(3, 0, 'RBF SVM')]"
            ]
          },
          "metadata": {},
          "execution_count": 920
        },
        {
          "output_type": "display_data",
          "data": {
            "text/plain": [
              "<Figure size 1500x1000 with 1 Axes>"
            ],
            "image/png": "[encoded data removed]"
          },
          "metadata": {}
        }
      ]
    },
    {
      "cell_type": "code",
      "source": [
        "hyperSpace = {\n",
        "    'LRC': {'classifier__C': Real(0.1, 10, prior='log-uniform')},\n",
        "    'DT': {'classifier__max_depth': Integer(10, 100)},\n",
        "    'RFC': {'classifier__n_estimators': Integer(100, 1000), 'classifier__max_depth': Integer(10, 100)},\n",
        "    'RBFSVM': {'classifier__C': Real(0.1, 10, prior='log-uniform'), 'classifier__gamma': Categorical(['scale', 'auto'])}\n",
        "    }"
      ],
      "metadata": {
        "id": "BC4aRUD_VnhV"
      },
      "execution_count": 912,
      "outputs": []
    },
    {
      "cell_type": "code",
      "source": [
        "optiOutput ={}\n",
        "for model, classi in classiModels.items(): # heh classy models\n",
        "  pipeline = Pipeline(steps=[('classifier', classi)])\n",
        "  bayeSearch = BayesSearchCV(pipeline, hyperSpace[model], n_iter=10, cv=5, random_state=42, scoring='accuracy')\n",
        "  bayeSearch.fit(x_trainScaled, y_train)\n",
        "  yPredict = bayeSearch.predict(X_testScaled)\n",
        "  optiOutput[model] = {'Mean Train Accuracy': bayeSearch.best_score_, 'Test Accuracy': accuracy_score(Y_test, yPredict), 'Optimal Parameters':bayeSearch.best_params_}"
      ],
      "metadata": {
        "id": "F3drmZONIWR8"
      },
      "execution_count": 913,
      "outputs": []
    },
    {
      "cell_type": "code",
      "source": [
        "for model in optiOutput:\n",
        "  print(f'{model} Optimal Train Accuracy: {optiOutput[model][\"Mean Train Accuracy\"]}')\n",
        "  print(f'{model} Optimal Test Accuracy: {optiOutput[model][\"Test Accuracy\"]}')\n",
        "  print(f'{model} Optimal Parameters: {optiOutput[model][\"Optimal Parameters\"]}')\n",
        "  print(\"\\n\")"
      ],
      "metadata": {
        "id": "PDJmsYHZKQO-",
        "colab": {
          "base_uri": "https://localhost:8080/"
        },
        "outputId": "3ed2ba52-3609-4467-99a0-2afde67998d7"
      },
      "execution_count": 918,
      "outputs": [
        {
          "output_type": "stream",
          "name": "stdout",
          "text": [
            "LRC Train Accuracy: 0.5415992258972555\n",
            "LRC Test Accuracy: 0.5193877551020408\n",
            "LRC Optimal Parameters: OrderedDict([('classifier__C', 8.146216961026964)])\n",
            "\n",
            "\n",
            "DT Train Accuracy: 0.5862606536867621\n",
            "DT Test Accuracy: 0.6081632653061224\n",
            "DT Optimal Parameters: OrderedDict([('classifier__max_depth', 47)])\n",
            "\n",
            "\n",
            "RFC Train Accuracy: 0.6658967993327599\n",
            "RFC Test Accuracy: 0.7040816326530612\n",
            "RFC Optimal Parameters: OrderedDict([('classifier__max_depth', 47), ('classifier__n_estimators', 755)])\n",
            "\n",
            "\n",
            "RBFSVM Train Accuracy: 0.5778448927463706\n",
            "RBFSVM Test Accuracy: 0.5846938775510204\n",
            "RBFSVM Optimal Parameters: OrderedDict([('classifier__C', 8.146216961026964), ('classifier__gamma', 'auto')])\n",
            "\n",
            "\n"
          ]
        }
      ]
    },
    {
      "cell_type": "code",
      "source": [
        "# Make a graph of scores\n",
        "ClassiNames2 = list[optiOutput.keys()]\n",
        "ClassiScores2 = [[optiOutput['LRC']['Mean Train Accuracy'], optiOutput['LRC']['Test Accuracy']],\n",
        "                [optiOutput['DT']['Mean Train Accuracy'], optiOutput['DT']['Test Accuracy']],\n",
        "                [optiOutput['RFC']['Mean Train Accuracy'], optiOutput['RFC']['Test Accuracy']],\n",
        "                [optiOutput['RBFSVM']['Mean Train Accuracy'], optiOutput['RBFSVM']['Test Accuracy']]]\n",
        "\n",
        "ClassiScoresDf2 = pd.DataFrame(ClassiScores2, columns=['Mean Train Accuracy', 'Test Accuracy'])\n",
        "\n",
        "PltClassiScoresDf2 = ClassiScoresDf2.plot(kind='bar', title = \"Optimal Classification Models\", figsize=(15, 10), width=0.8)\n",
        "PltClassiScoresDf2.set_xticklabels(['LogisticRegression', 'DecisionTree', 'RandomForestClassifier', 'RBF SVM'], rotation = 0)"
      ],
      "metadata": {
        "id": "233V_xQkL5p6",
        "colab": {
          "base_uri": "https://localhost:8080/",
          "height": 924
        },
        "outputId": "a8177f66-272d-4970-c78f-2831ea5ec965"
      },
      "execution_count": 921,
      "outputs": [
        {
          "output_type": "execute_result",
          "data": {
            "text/plain": [
              "[Text(0, 0, 'LogisticRegression'),\n",
              " Text(1, 0, 'DecisionTree'),\n",
              " Text(2, 0, 'RandomForestClassifier'),\n",
              " Text(3, 0, 'RBF SVM')]"
            ]
          },
          "metadata": {},
          "execution_count": 921
        },
        {
          "output_type": "display_data",
          "data": {
            "text/plain": [
              "<Figure size 1500x1000 with 1 Axes>"
            ],
            "image/png": "[encoded data removed]"
          },
          "metadata": {}
        }
      ]
    }
  ]
}