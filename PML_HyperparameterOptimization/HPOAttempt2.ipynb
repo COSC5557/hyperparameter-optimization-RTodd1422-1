{
 "cells": [
  {
   "cell_type": "code",
   "execution_count": 4,
   "id": "038426d5",
   "metadata": {},
   "outputs": [
    {
     "name": "stdout",
     "output_type": "stream",
     "text": [
      "Model: RandomForest\n",
      "Best Hyperparameters: {'bootstrap': True, 'ccp_alpha': 0.0, 'class_weight': None, 'criterion': 'gini', 'max_depth': 20, 'max_features': 'sqrt', 'max_leaf_nodes': None, 'max_samples': None, 'min_impurity_decrease': 0.0, 'min_samples_leaf': 1, 'min_samples_split': 2, 'min_weight_fraction_leaf': 0.0, 'n_estimators': 100, 'n_jobs': None, 'oob_score': False, 'random_state': None, 'verbose': 0, 'warm_start': False}\n",
      "Cross-Validation Scores: [0.66454082 0.66581633 0.65561224 0.651341   0.65772669]\n",
      "Test Score: 0.6918367346938775\n",
      "T-Statistic: -12.030913172335982, P-Value: 0.0002736617075041684\n",
      "\n",
      "\n",
      "Model: SVM\n",
      "Best Hyperparameters: {'C': 1, 'break_ties': False, 'cache_size': 200, 'class_weight': None, 'coef0': 0.0, 'decision_function_shape': 'ovr', 'degree': 3, 'gamma': 'scale', 'kernel': 'linear', 'max_iter': -1, 'probability': False, 'random_state': None, 'shrinking': True, 'tol': 0.001, 'verbose': False}\n",
      "Cross-Validation Scores: [0.53443878 0.51785714 0.53188776 0.53001277 0.5146871 ]\n",
      "Test Score: 0.5061224489795918\n",
      "T-Statistic: 4.94441366673608, P-Value: 0.0077921925128195835\n",
      "\n",
      "\n"
     ]
    }
   ],
   "source": [
    "import pandas as pd\n",
    "import numpy as np\n",
    "from sklearn.model_selection import train_test_split, GridSearchCV\n",
    "from sklearn.ensemble import RandomForestClassifier\n",
    "from sklearn.svm import SVC\n",
    "from sklearn.metrics import accuracy_score\n",
    "from sklearn.model_selection import cross_val_score\n",
    "from scipy.stats import ttest_rel\n",
    "\n",
    "# Load the dataset\n",
    "data = pd.read_csv(\"winequality-white.csv\")\n",
    "\n",
    "# Separate features and target variable\n",
    "X = data.drop('quality', axis=1)\n",
    "y = data['quality']\n",
    "\n",
    "# Split the dataset into training and testing sets\n",
    "X_train, X_test, y_train, y_test = train_test_split(X, y, test_size=0.2, random_state=42)\n",
    "\n",
    "# Define the models and their respective hyperparameter grids\n",
    "models = {\n",
    "    'RandomForest': (RandomForestClassifier(),\n",
    "                     {'n_estimators': [10, 50, 100],\n",
    "                      'max_depth': [None, 10, 20],\n",
    "                      'min_samples_split': [2, 5, 10]}),\n",
    "    'SVM': (SVC(),\n",
    "            {'C': [0.1, 1, 10],\n",
    "             'kernel': ['linear', 'rbf']})\n",
    "}\n",
    "\n",
    "# Perform hyperparameter optimization and model evaluation\n",
    "results = {}\n",
    "for model_name, (model, param_grid) in models.items():\n",
    "    grid_search = GridSearchCV(model, param_grid, cv=5)\n",
    "    grid_search.fit(X_train, y_train)\n",
    "    best_model = grid_search.best_estimator_\n",
    "    \n",
    "    # Evaluate model performance using cross-validation\n",
    "    cv_scores = cross_val_score(best_model, X_train, y_train, cv=5, scoring='accuracy')\n",
    "    \n",
    "    # Perform a t-test to check for overfitting\n",
    "    test_scores = accuracy_score(y_test, best_model.predict(X_test))\n",
    "    t_statistic, p_value = ttest_rel(cv_scores, [test_scores] * len(cv_scores))\n",
    "    \n",
    "    results[model_name] = {\n",
    "        'best_model': best_model,\n",
    "        'cv_scores': cv_scores,\n",
    "        'test_score': test_scores,\n",
    "        't_statistic': t_statistic,\n",
    "        'p_value': p_value\n",
    "    }\n",
    "\n",
    "# Print the results\n",
    "for model_name, result in results.items():\n",
    "    print(f\"Model: {model_name}\")\n",
    "    print(f\"Best Hyperparameters: {result['best_model'].get_params()}\")\n",
    "    print(f\"Cross-Validation Scores: {result['cv_scores']}\")\n",
    "    print(f\"Test Score: {result['test_score']}\")\n",
    "    print(f\"T-Statistic: {result['t_statistic']}, P-Value: {result['p_value']}\")\n",
    "    print(\"\\n\")\n"
   ]
  },
  {
   "cell_type": "code",
   "execution_count": null,
   "id": "dd93b4d7",
   "metadata": {},
   "outputs": [],
   "source": []
  }
 ],
 "metadata": {
  "kernelspec": {
   "display_name": "Python 3 (ipykernel)",
   "language": "python",
   "name": "python3"
  },
  "language_info": {
   "codemirror_mode": {
    "name": "ipython",
    "version": 3
   },
   "file_extension": ".py",
   "mimetype": "text/x-python",
   "name": "python",
   "nbconvert_exporter": "python",
   "pygments_lexer": "ipython3",
   "version": "3.9.13"
  }
 },
 "nbformat": 4,
 "nbformat_minor": 5
}
